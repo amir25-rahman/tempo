You're right! If it's not a CSV file, let's figure out what type of file it actually is and how to read it properly.

## Solution 1: Examine the file content to identify the format

```python
def identify_file_format(filename):
    """Examine file content to determine actual format"""
    
    # Read first 100 bytes to analyze
    with open(filename, 'rb') as f:
        header = f.read(100)
    
    print(f"File size: {len(open(filename, 'rb').read()):,} bytes")
    print(f"First 50 bytes (hex): {header[:50].hex()}")
    print(f"First 50 bytes (ascii, ignore errors): {header[:50].decode('ascii', errors='ignore')}")
    
    # Check for common file signatures
    if header.startswith(b'\x1f\x8b'):
        print("→ Gzipped file")
    elif header.startswith(b'PK'):
        print("→ ZIP archive or Office document")
    elif header.startswith(b'\x89PNG'):
        print("→ PNG image")
    elif header.startswith(b'\xff\xd8\xff'):
        print("→ JPEG image")
    elif header.startswith(b'%PDF'):
        print("→ PDF file")
    elif header.startswith(b'\x00\x00\x00'):
        print("→ Possibly binary data or database file")
    elif b'<?xml' in header[:20]:
        print("→ XML file")
    elif b'{"' in header[:10] or header.strip().startswith(b'{'):
        print("→ JSON file")
    elif b'\t' in header or b',' in header:
        print("→ Might be tab-separated or CSV")
    else:
        print("→ Unknown format")
        
        # Try to see if it's text
        try:
            text_sample = header.decode('utf-8')
            print(f"Text sample: {repr(text_sample[:100])}")
        except UnicodeDecodeError:
            print("→ Contains binary data")

identify_file_format('sys.csv.gz.20250814')
```

## Solution 2: Try reading as different common formats

```python
import pandas as pd
import json

def try_different_formats(filename):
    """Try reading as various common data formats"""
    
    # Try JSON
    try:
        with open(filename, 'r') as f:
            data = json.load(f)
        print("✓ Successfully read as JSON")
        print(f"JSON keys: {list(data.keys()) if isinstance(data, dict) else 'Array with ' + str(len(data)) + ' items'}")
        return data, 'json'
    except:
        print("✗ Not JSON")
    
    # Try tab-separated
    try:
        df = pd.read_csv(filename, sep='\t')
        print("✓ Successfully read as tab-separated")
        print(f"Shape: {df.shape}")
        print(f"Columns: {list(df.columns)}")
        return df, 'tsv'
    except:
        print("✗ Not tab-separated")
    
    # Try pipe-separated
    try:
        df = pd.read_csv(filename, sep='|')
        print("✓ Successfully read as pipe-separated")
        print(f"Shape: {df.shape}")
        print(f"Columns: {list(df.columns)}")
        return df, 'psv'
    except:
        print("✗ Not pipe-separated")
    
    # Try fixed-width
    try:
        df = pd.read_fwf(filename)
        print("✓ Successfully read as fixed-width")
        print(f"Shape: {df.shape}")
        print(f"Columns: {list(df.columns)}")
        return df, 'fwf'
    except:
        print("✗ Not fixed-width")
    
    # Try Excel (even though extension doesn't suggest it)
    try:
        df = pd.read_excel(filename)
        print("✓ Successfully read as Excel")
        print(f"Shape: {df.shape}")
        return df, 'excel'
    except:
        print("✗ Not Excel")
    
    return None, None

data, format_type = try_different_formats('sys.csv.gz.20250814')
```

## Solution 3: Check if it's a log file or system file

```python
def analyze_as_log_file(filename):
    """Check if it's a log file or system configuration file"""
    
    try:
        with open(filename, 'r', encoding='utf-8') as f:
            lines = [f.readline().strip() for _ in range(10)]  # First 10 lines
        
        print("First 10 lines:")
        for i, line in enumerate(lines, 1):
            if line:  # Only print non-empty lines
                print(f"{i:2d}: {line[:100]}{'...' if len(line) > 100 else ''}")
        
        # Check for log patterns
        import re
        log_patterns = [
            r'\d{4}-\d{2}-\d{2}',  # Date patterns
            r'\d{2}:\d{2}:\d{2}',  # Time patterns
            r'\[.*\]',  # Bracketed content
            r'ERROR|WARN|INFO|DEBUG',  # Log levels
        ]
        
        sample_text = '\n'.join(lines)
        for pattern in log_patterns:
            if re.search(pattern, sample_text):
                print(f"Found log pattern: {pattern}")
        
    except UnicodeDecodeError:
        print("File contains binary data, trying different encoding...")
        try:
            with open(filename, 'r', encoding='latin-1') as f:
                lines = [f.readline().strip() for _ in range(5)]
            print("First 5 lines (latin-1 encoding):")
            for i, line in enumerate(lines, 1):
                if line:
                    print(f"{i}: {line[:100]}")
        except:
            print("Could not read as text file")

analyze_as_log_file('sys.csv.gz.20250814')
```

## Solution 4: Check if it's actually compressed but corrupted

```python
import gzip
import zlib

def test_compression_methods(filename):
    """Test different decompression methods"""
    
    with open(filename, 'rb') as f:
        data = f.read()
    
    print(f"File size: {len(data)} bytes")
    print(f"First 20 bytes: {data[:20].hex()}")
    
    # Test gzip
    if data.startswith(b'\x1f\x8b'):
        print("Has gzip header, but we know it's corrupted")
        
        # Try to read what we can
        try:
            with gzip.open(filename, 'rb') as gz:
                partial = gz.read(1024)  # Try to read first 1KB
            print(f"Managed to decompress {len(partial)} bytes before corruption")
            print(f"Decompressed sample: {partial[:100]}")
        except Exception as e:
            print(f"Gzip decompression failed: {e}")
    
    # Test if it's raw deflate
    try:
        decompressed = zlib.decompress(data)
        print(f"✓ Successfully decompressed with raw deflate: {len(decompressed)} bytes")
        return decompressed
    except:
        print("✗ Not raw deflate")
    
    # Test if it's zlib compressed
    try:
        decompressed = zlib.decompress(data, -zlib.MAX_WBITS)
        print(f"✓ Successfully decompressed with zlib: {len(decompressed)} bytes")
        return decompressed
    except:
        print("✗ Not zlib compressed")
    
    return None

result = test_compression_methods('sys.csv.gz.20250814')
if result:
    print(f"Decompressed content sample: {result[:200]}")
```

## What to do next:

Run **Solution 1** first to see what the file actually contains. Based on that output, we can determine:

- If it's a text file (log, config, etc.)
- If it's binary data 
- If it's a different structured format (JSON, XML, etc.)
- If it's corrupted compressed data

Once we know the actual format, I can help you read it properly. The `.csv.gz` in the filename might just be misleading - it could be a system file, log file, or completely different format that happens to use that naming convention.​​​​​​​​​​​​​​​​

















{"metadata":{"kernelspec":{"language":"python","display_name":"Python 3","name":"python3"},"language_info":{"name":"python","version":"3.10.14","mimetype":"text/x-python","codemirror_mode":{"name":"ipython","version":3},"pygments_lexer":"ipython3","nbconvert_exporter":"python","file_extension":".py"},"kaggle":{"accelerator":"none","dataSources":[{"sourceId":9246952,"sourceType":"datasetVersion","datasetId":5593923}],"dockerImageVersionId":30761,"isInternetEnabled":false,"language":"python","sourceType":"notebook","isGpuEnabled":false}},"nbformat_minor":4,"nbformat":4,"cells":[{"cell_type":"code","source":"# This Python 3 environment comes with many helpful analytics libraries installed\n# It is defined by the kaggle/python Docker image: https://github.com/kaggle/docker-python\n# For example, here's several helpful packages to load\n\nimport numpy as np # linear algebra\nimport pandas as pd # data processing, CSV file I/O (e.g. pd.read_csv)\n\n# Input data files are available in the read-only \"../input/\" directory\n# For example, running this (by clicking run or pressing Shift+Enter) will list all files under the input directory\n\nimport os\nfor dirname, _, filenames in os.walk('/kaggle/input'):\n    for filename in filenames:\n        print(os.path.join(dirname, filename))\n\n# You can write up to 20GB to the current directory (/kaggle/working/) that gets preserved as output when you create a version using \"Save & Run All\" \n# You can also write temporary files to /kaggle/temp/, but they won't be saved outside of the current session","metadata":{"_uuid":"8f2839f25d086af736a60e9eeb907d3b93b6e0e5","_cell_guid":"b1076dfc-b9ad-4769-8c92-a6c4dae69d19","execution":{"iopub.status.busy":"2024-08-25T23:48:52.773623Z","iopub.execute_input":"2024-08-25T23:48:52.774479Z","iopub.status.idle":"2024-08-25T23:48:52.784641Z","shell.execute_reply.started":"2024-08-25T23:48:52.774428Z","shell.execute_reply":"2024-08-25T23:48:52.783194Z"},"trusted":true},"execution_count":279,"outputs":[{"name":"stdout","text":"/kaggle/input/comppp/comp2.xlsx\n/kaggle/input/comppp/comp1.xlsx\n","output_type":"stream"}]},{"cell_type":"code","source":"df_1['2018 - Q1'] = df_1['2018 - Q1'].str.replace('\\n', ' ')\ndf_2['2018 - Q2'] = df_2['2018 - Q2'].str.replace('\\n', ' ')","metadata":{"execution":{"iopub.status.busy":"2024-08-25T23:48:52.786809Z","iopub.execute_input":"2024-08-25T23:48:52.787252Z","iopub.status.idle":"2024-08-25T23:48:52.799016Z","shell.execute_reply.started":"2024-08-25T23:48:52.787209Z","shell.execute_reply":"2024-08-25T23:48:52.797852Z"},"trusted":true},"execution_count":280,"outputs":[]},{"cell_type":"code","source":"df_1.rename(columns={'2018 - Q1':'2018'}, inplace= True)\ndf_2.rename(columns={'2018 - Q2':'2018'}, inplace= True)","metadata":{"execution":{"iopub.status.busy":"2024-08-25T23:48:52.805870Z","iopub.execute_input":"2024-08-25T23:48:52.806406Z","iopub.status.idle":"2024-08-25T23:48:52.813877Z","shell.execute_reply.started":"2024-08-25T23:48:52.806345Z","shell.execute_reply":"2024-08-25T23:48:52.812522Z"},"trusted":true},"execution_count":281,"outputs":[]},{"cell_type":"code","source":"compare = pd.concat([df_1,df_2], axis=1)","metadata":{"execution":{"iopub.status.busy":"2024-08-25T23:48:52.816140Z","iopub.execute_input":"2024-08-25T23:48:52.817368Z","iopub.status.idle":"2024-08-25T23:48:52.828853Z","shell.execute_reply.started":"2024-08-25T23:48:52.817314Z","shell.execute_reply":"2024-08-25T23:48:52.827678Z"},"trusted":true},"execution_count":282,"outputs":[]},{"cell_type":"code","source":"df_1 = pd.read_excel('/kaggle/input/comppp/comp1.xlsx')\ndf_2 = pd.read_excel('/kaggle/input/comppp/comp2.xlsx')","metadata":{"execution":{"iopub.status.busy":"2024-08-25T23:48:52.830428Z","iopub.execute_input":"2024-08-25T23:48:52.831366Z","iopub.status.idle":"2024-08-25T23:48:52.878049Z","shell.execute_reply.started":"2024-08-25T23:48:52.831320Z","shell.execute_reply":"2024-08-25T23:48:52.876825Z"},"trusted":true},"execution_count":283,"outputs":[]},{"cell_type":"code","source":"compare.fillna('X', inplace= True)\ndif = compare.iloc[: , :7] == compare.iloc[: , 7:]\ndif.replace({False: 'X', True: ' '}, inplace=True)\ndif","metadata":{"execution":{"iopub.status.busy":"2024-08-25T23:48:52.880530Z","iopub.execute_input":"2024-08-25T23:48:52.880960Z","iopub.status.idle":"2024-08-25T23:48:52.907911Z","shell.execute_reply.started":"2024-08-25T23:48:52.880917Z","shell.execute_reply":"2024-08-25T23:48:52.906804Z"},"trusted":true},"execution_count":284,"outputs":[{"name":"stderr","text":"/tmp/ipykernel_36/514198177.py:1: FutureWarning: Setting an item of incompatible dtype is deprecated and will raise an error in a future version of pandas. Value 'X' has dtype incompatible with datetime64[ns], please explicitly cast to a compatible dtype first.\n  compare.fillna('X', inplace= True)\n/tmp/ipykernel_36/514198177.py:1: FutureWarning: Setting an item of incompatible dtype is deprecated and will raise an error in a future version of pandas. Value 'X' has dtype incompatible with float64, please explicitly cast to a compatible dtype first.\n  compare.fillna('X', inplace= True)\n","output_type":"stream"},{"execution_count":284,"output_type":"execute_result","data":{"text/plain":"  Start End Duration 2018 Vert. Position Vert. Line Comment\n0                                                          \n1                                                          \n2         X        X    X                                 X\n3         X        X    X                                 X\n4                                                          \n5                                                          \n6                                                          \n7                       X                                 X\n8                                                         X\n9         X        X                   X          X       X","text/html":"<div>\n<style scoped>\n    .dataframe tbody tr th:only-of-type {\n        vertical-align: middle;\n    }\n\n    .dataframe tbody tr th {\n        vertical-align: top;\n    }\n\n    .dataframe thead th {\n        text-align: right;\n    }\n</style>\n<table border=\"1\" class=\"dataframe\">\n  <thead>\n    <tr style=\"text-align: right;\">\n      <th></th>\n      <th>Start</th>\n      <th>End</th>\n      <th>Duration</th>\n      <th>2018</th>\n      <th>Vert. Position</th>\n      <th>Vert. Line</th>\n      <th>Comment</th>\n    </tr>\n  </thead>\n  <tbody>\n    <tr>\n      <th>0</th>\n      <td></td>\n      <td></td>\n      <td></td>\n      <td></td>\n      <td></td>\n      <td></td>\n      <td></td>\n    </tr>\n    <tr>\n      <th>1</th>\n      <td></td>\n      <td></td>\n      <td></td>\n      <td></td>\n      <td></td>\n      <td></td>\n      <td></td>\n    </tr>\n    <tr>\n      <th>2</th>\n      <td></td>\n      <td>X</td>\n      <td>X</td>\n      <td>X</td>\n      <td></td>\n      <td></td>\n      <td>X</td>\n    </tr>\n    <tr>\n      <th>3</th>\n      <td></td>\n      <td>X</td>\n      <td>X</td>\n      <td>X</td>\n      <td></td>\n      <td></td>\n      <td>X</td>\n    </tr>\n    <tr>\n      <th>4</th>\n      <td></td>\n      <td></td>\n      <td></td>\n      <td></td>\n      <td></td>\n      <td></td>\n      <td></td>\n    </tr>\n    <tr>\n      <th>5</th>\n      <td></td>\n      <td></td>\n      <td></td>\n      <td></td>\n      <td></td>\n      <td></td>\n      <td></td>\n    </tr>\n    <tr>\n      <th>6</th>\n      <td></td>\n      <td></td>\n      <td></td>\n      <td></td>\n      <td></td>\n      <td></td>\n      <td></td>\n    </tr>\n    <tr>\n      <th>7</th>\n      <td></td>\n      <td></td>\n      <td></td>\n      <td>X</td>\n      <td></td>\n      <td></td>\n      <td>X</td>\n    </tr>\n    <tr>\n      <th>8</th>\n      <td></td>\n      <td></td>\n      <td></td>\n      <td></td>\n      <td></td>\n      <td></td>\n      <td>X</td>\n    </tr>\n    <tr>\n      <th>9</th>\n      <td></td>\n      <td>X</td>\n      <td>X</td>\n      <td></td>\n      <td>X</td>\n      <td>X</td>\n      <td>X</td>\n    </tr>\n  </tbody>\n</table>\n</div>"},"metadata":{}}]},{"cell_type":"code","source":"df_mask = compare.iloc[:, :7].compare(compare.iloc[:, 7:], keep_shape=True).notnull().astype('int').rename(columns={'self': 'Data_q1', 'other': 'Data_q2'}, level=-1)\n\ndf_compare = compare.iloc[: , :7].compare(compare.iloc[: , 7:], keep_shape=True, keep_equal=True).rename(columns={'self': 'Data_q1', 'other': 'Data_q2'}, level=-1)","metadata":{"execution":{"iopub.status.busy":"2024-08-25T23:48:52.909349Z","iopub.execute_input":"2024-08-25T23:48:52.909786Z","iopub.status.idle":"2024-08-25T23:48:52.942292Z","shell.execute_reply.started":"2024-08-25T23:48:52.909743Z","shell.execute_reply":"2024-08-25T23:48:52.940987Z"},"trusted":true},"execution_count":285,"outputs":[]},{"cell_type":"code","source":"def apply_color(x):\n    colors = {1: 'lightyellow', 0: 'white'}\n    return df_mask.applymap(lambda val: 'background-color: {}'.format(colors.get(val,'')))\ndef format_float(val):\n    if isinstance(val, float):\n        return f'{val:.10f}'\n    return val\n\ndata_compare = df_compare.style.apply(apply_color, axis=None).format(format_float)","metadata":{"execution":{"iopub.status.busy":"2024-08-25T23:48:52.944000Z","iopub.execute_input":"2024-08-25T23:48:52.944440Z","iopub.status.idle":"2024-08-25T23:48:52.953673Z","shell.execute_reply.started":"2024-08-25T23:48:52.944397Z","shell.execute_reply":"2024-08-25T23:48:52.952409Z"},"trusted":true},"execution_count":286,"outputs":[]},{"cell_type":"code","source":"data_compare","metadata":{"execution":{"iopub.status.busy":"2024-08-25T23:48:52.955005Z","iopub.execute_input":"2024-08-25T23:48:52.955377Z","iopub.status.idle":"2024-08-25T23:48:52.991612Z","shell.execute_reply.started":"2024-08-25T23:48:52.955338Z","shell.execute_reply":"2024-08-25T23:48:52.990195Z"},"trusted":true},"execution_count":287,"outputs":[{"name":"stderr","text":"/tmp/ipykernel_36/118245843.py:3: FutureWarning: DataFrame.applymap has been deprecated. Use DataFrame.map instead.\n  return df_mask.applymap(lambda val: 'background-color: {}'.format(colors.get(val,'')))\n","output_type":"stream"},{"execution_count":287,"output_type":"execute_result","data":{"text/plain":"<pandas.io.formats.style.Styler at 0x77fd00b7d2d0>","text/html":"<style type=\"text/css\">\n#T_01873_row0_col0, #T_01873_row0_col1, #T_01873_row0_col2, #T_01873_row0_col3, #T_01873_row0_col4, #T_01873_row0_col5, #T_01873_row0_col6, #T_01873_row0_col7, #T_01873_row0_col8, #T_01873_row0_col9, #T_01873_row0_col10, #T_01873_row0_col11, #T_01873_row0_col12, #T_01873_row0_col13, #T_01873_row1_col0, #T_01873_row1_col1, #T_01873_row1_col2, #T_01873_row1_col3, #T_01873_row1_col4, #T_01873_row1_col5, #T_01873_row1_col6, #T_01873_row1_col7, #T_01873_row1_col8, #T_01873_row1_col9, #T_01873_row1_col10, #T_01873_row1_col11, #T_01873_row1_col12, #T_01873_row1_col13, #T_01873_row2_col0, #T_01873_row2_col1, #T_01873_row2_col8, #T_01873_row2_col9, #T_01873_row2_col10, #T_01873_row2_col11, #T_01873_row3_col0, #T_01873_row3_col1, #T_01873_row3_col8, #T_01873_row3_col9, #T_01873_row3_col10, #T_01873_row3_col11, #T_01873_row4_col0, #T_01873_row4_col1, #T_01873_row4_col2, #T_01873_row4_col3, #T_01873_row4_col4, #T_01873_row4_col5, #T_01873_row4_col6, #T_01873_row4_col7, #T_01873_row4_col8, #T_01873_row4_col9, #T_01873_row4_col10, #T_01873_row4_col11, #T_01873_row4_col12, #T_01873_row4_col13, #T_01873_row5_col0, #T_01873_row5_col1, #T_01873_row5_col2, #T_01873_row5_col3, #T_01873_row5_col4, #T_01873_row5_col5, #T_01873_row5_col6, #T_01873_row5_col7, #T_01873_row5_col8, #T_01873_row5_col9, #T_01873_row5_col10, #T_01873_row5_col11, #T_01873_row5_col12, #T_01873_row5_col13, #T_01873_row6_col0, #T_01873_row6_col1, #T_01873_row6_col2, #T_01873_row6_col3, #T_01873_row6_col4, #T_01873_row6_col5, #T_01873_row6_col6, #T_01873_row6_col7, #T_01873_row6_col8, #T_01873_row6_col9, #T_01873_row6_col10, #T_01873_row6_col11, #T_01873_row6_col12, #T_01873_row6_col13, #T_01873_row7_col0, #T_01873_row7_col1, #T_01873_row7_col2, #T_01873_row7_col3, #T_01873_row7_col4, #T_01873_row7_col5, #T_01873_row7_col8, #T_01873_row7_col9, #T_01873_row7_col10, #T_01873_row7_col11, #T_01873_row8_col0, #T_01873_row8_col1, #T_01873_row8_col2, #T_01873_row8_col3, #T_01873_row8_col4, #T_01873_row8_col5, #T_01873_row8_col6, #T_01873_row8_col7, #T_01873_row8_col8, #T_01873_row8_col9, #T_01873_row8_col10, #T_01873_row8_col11, #T_01873_row9_col0, #T_01873_row9_col1, #T_01873_row9_col6, #T_01873_row9_col7 {\n  background-color: white;\n}\n#T_01873_row2_col2, #T_01873_row2_col3, #T_01873_row2_col4, #T_01873_row2_col5, #T_01873_row2_col6, #T_01873_row2_col7, #T_01873_row2_col12, #T_01873_row2_col13, #T_01873_row3_col2, #T_01873_row3_col3, #T_01873_row3_col4, #T_01873_row3_col5, #T_01873_row3_col6, #T_01873_row3_col7, #T_01873_row3_col12, #T_01873_row3_col13, #T_01873_row7_col6, #T_01873_row7_col7, #T_01873_row7_col12, #T_01873_row7_col13, #T_01873_row8_col12, #T_01873_row8_col13, #T_01873_row9_col2, #T_01873_row9_col3, #T_01873_row9_col4, #T_01873_row9_col5, #T_01873_row9_col8, #T_01873_row9_col9, #T_01873_row9_col10, #T_01873_row9_col11, #T_01873_row9_col12, #T_01873_row9_col13 {\n  background-color: lightyellow;\n}\n</style>\n<table id=\"T_01873\">\n  <thead>\n    <tr>\n      <th class=\"blank level0\" >&nbsp;</th>\n      <th id=\"T_01873_level0_col0\" class=\"col_heading level0 col0\" colspan=\"2\">Start</th>\n      <th id=\"T_01873_level0_col2\" class=\"col_heading level0 col2\" colspan=\"2\">End</th>\n      <th id=\"T_01873_level0_col4\" class=\"col_heading level0 col4\" colspan=\"2\">Duration</th>\n      <th id=\"T_01873_level0_col6\" class=\"col_heading level0 col6\" colspan=\"2\">2018</th>\n      <th id=\"T_01873_level0_col8\" class=\"col_heading level0 col8\" colspan=\"2\">Vert. Position</th>\n      <th id=\"T_01873_level0_col10\" class=\"col_heading level0 col10\" colspan=\"2\">Vert. Line</th>\n      <th id=\"T_01873_level0_col12\" class=\"col_heading level0 col12\" colspan=\"2\">Comment</th>\n    </tr>\n    <tr>\n      <th class=\"blank level1\" >&nbsp;</th>\n      <th id=\"T_01873_level1_col0\" class=\"col_heading level1 col0\" >Data_q1</th>\n      <th id=\"T_01873_level1_col1\" class=\"col_heading level1 col1\" >Data_q2</th>\n      <th id=\"T_01873_level1_col2\" class=\"col_heading level1 col2\" >Data_q1</th>\n      <th id=\"T_01873_level1_col3\" class=\"col_heading level1 col3\" >Data_q2</th>\n      <th id=\"T_01873_level1_col4\" class=\"col_heading level1 col4\" >Data_q1</th>\n      <th id=\"T_01873_level1_col5\" class=\"col_heading level1 col5\" >Data_q2</th>\n      <th id=\"T_01873_level1_col6\" class=\"col_heading level1 col6\" >Data_q1</th>\n      <th id=\"T_01873_level1_col7\" class=\"col_heading level1 col7\" >Data_q2</th>\n      <th id=\"T_01873_level1_col8\" class=\"col_heading level1 col8\" >Data_q1</th>\n      <th id=\"T_01873_level1_col9\" class=\"col_heading level1 col9\" >Data_q2</th>\n      <th id=\"T_01873_level1_col10\" class=\"col_heading level1 col10\" >Data_q1</th>\n      <th id=\"T_01873_level1_col11\" class=\"col_heading level1 col11\" >Data_q2</th>\n      <th id=\"T_01873_level1_col12\" class=\"col_heading level1 col12\" >Data_q1</th>\n      <th id=\"T_01873_level1_col13\" class=\"col_heading level1 col13\" >Data_q2</th>\n    </tr>\n  </thead>\n  <tbody>\n    <tr>\n      <th id=\"T_01873_level0_row0\" class=\"row_heading level0 row0\" >0</th>\n      <td id=\"T_01873_row0_col0\" class=\"data row0 col0\" >2018-03-28 00:00:00</td>\n      <td id=\"T_01873_row0_col1\" class=\"data row0 col1\" >2018-03-28 00:00:00</td>\n      <td id=\"T_01873_row0_col2\" class=\"data row0 col2\" >2018-04-11 00:00:00</td>\n      <td id=\"T_01873_row0_col3\" class=\"data row0 col3\" >2018-04-11 00:00:00</td>\n      <td id=\"T_01873_row0_col4\" class=\"data row0 col4\" >15.0000000000</td>\n      <td id=\"T_01873_row0_col5\" class=\"data row0 col5\" >15</td>\n      <td id=\"T_01873_row0_col6\" class=\"data row0 col6\" >Task 1 Mar 28 - Apr 11</td>\n      <td id=\"T_01873_row0_col7\" class=\"data row0 col7\" >Task 1 Mar 28 - Apr 11</td>\n      <td id=\"T_01873_row0_col8\" class=\"data row0 col8\" >-25.0000000005</td>\n      <td id=\"T_01873_row0_col9\" class=\"data row0 col9\" >-25.0000000005</td>\n      <td id=\"T_01873_row0_col10\" class=\"data row0 col10\" >-25.0000000005</td>\n      <td id=\"T_01873_row0_col11\" class=\"data row0 col11\" >-25.0000000005</td>\n      <td id=\"T_01873_row0_col12\" class=\"data row0 col12\" >Done</td>\n      <td id=\"T_01873_row0_col13\" class=\"data row0 col13\" >Done</td>\n    </tr>\n    <tr>\n      <th id=\"T_01873_level0_row1\" class=\"row_heading level0 row1\" >1</th>\n      <td id=\"T_01873_row1_col0\" class=\"data row1 col0\" >2018-04-12 00:00:00</td>\n      <td id=\"T_01873_row1_col1\" class=\"data row1 col1\" >2018-04-12 00:00:00</td>\n      <td id=\"T_01873_row1_col2\" class=\"data row1 col2\" >2018-05-01 00:00:00</td>\n      <td id=\"T_01873_row1_col3\" class=\"data row1 col3\" >2018-05-01 00:00:00</td>\n      <td id=\"T_01873_row1_col4\" class=\"data row1 col4\" >20.0000000000</td>\n      <td id=\"T_01873_row1_col5\" class=\"data row1 col5\" >20</td>\n      <td id=\"T_01873_row1_col6\" class=\"data row1 col6\" >Task 2 Apr 12 - May 1</td>\n      <td id=\"T_01873_row1_col7\" class=\"data row1 col7\" >Task 2 Apr 12 - May 1</td>\n      <td id=\"T_01873_row1_col8\" class=\"data row1 col8\" >-40.0000000005</td>\n      <td id=\"T_01873_row1_col9\" class=\"data row1 col9\" >-40.0000000005</td>\n      <td id=\"T_01873_row1_col10\" class=\"data row1 col10\" >-15.0000000000</td>\n      <td id=\"T_01873_row1_col11\" class=\"data row1 col11\" >-15.0000000000</td>\n      <td id=\"T_01873_row1_col12\" class=\"data row1 col12\" >Done</td>\n      <td id=\"T_01873_row1_col13\" class=\"data row1 col13\" >Done</td>\n    </tr>\n    <tr>\n      <th id=\"T_01873_level0_row2\" class=\"row_heading level0 row2\" >2</th>\n      <td id=\"T_01873_row2_col0\" class=\"data row2 col0\" >2018-05-02 00:00:00</td>\n      <td id=\"T_01873_row2_col1\" class=\"data row2 col1\" >2018-05-02 00:00:00</td>\n      <td id=\"T_01873_row2_col2\" class=\"data row2 col2\" >2018-05-25 00:00:00</td>\n      <td id=\"T_01873_row2_col3\" class=\"data row2 col3\" >2018-06-25 00:00:00</td>\n      <td id=\"T_01873_row2_col4\" class=\"data row2 col4\" >24.0000000000</td>\n      <td id=\"T_01873_row2_col5\" class=\"data row2 col5\" >55</td>\n      <td id=\"T_01873_row2_col6\" class=\"data row2 col6\" >Task 3 May 2 - May 25</td>\n      <td id=\"T_01873_row2_col7\" class=\"data row2 col7\" >Task 3 May 2 - Jun 25</td>\n      <td id=\"T_01873_row2_col8\" class=\"data row2 col8\" >-55.0000000005</td>\n      <td id=\"T_01873_row2_col9\" class=\"data row2 col9\" >-55.0000000005</td>\n      <td id=\"T_01873_row2_col10\" class=\"data row2 col10\" >-15.0000000000</td>\n      <td id=\"T_01873_row2_col11\" class=\"data row2 col11\" >-15.0000000000</td>\n      <td id=\"T_01873_row2_col12\" class=\"data row2 col12\" >Done</td>\n      <td id=\"T_01873_row2_col13\" class=\"data row2 col13\" >TBD</td>\n    </tr>\n    <tr>\n      <th id=\"T_01873_level0_row3\" class=\"row_heading level0 row3\" >3</th>\n      <td id=\"T_01873_row3_col0\" class=\"data row3 col0\" >2018-04-28 00:00:00</td>\n      <td id=\"T_01873_row3_col1\" class=\"data row3 col1\" >2018-04-28 00:00:00</td>\n      <td id=\"T_01873_row3_col2\" class=\"data row3 col2\" >2018-07-12 00:00:00</td>\n      <td id=\"T_01873_row3_col3\" class=\"data row3 col3\" >2018-06-21 00:00:00</td>\n      <td id=\"T_01873_row3_col4\" class=\"data row3 col4\" >76.0000000000</td>\n      <td id=\"T_01873_row3_col5\" class=\"data row3 col5\" >55</td>\n      <td id=\"T_01873_row3_col6\" class=\"data row3 col6\" >Task Label 4</td>\n      <td id=\"T_01873_row3_col7\" class=\"data row3 col7\" >Need info</td>\n      <td id=\"T_01873_row3_col8\" class=\"data row3 col8\" >-80.0000000000</td>\n      <td id=\"T_01873_row3_col9\" class=\"data row3 col9\" >-80.0000000000</td>\n      <td id=\"T_01873_row3_col10\" class=\"data row3 col10\" >-80.0000000000</td>\n      <td id=\"T_01873_row3_col11\" class=\"data row3 col11\" >-80.0000000000</td>\n      <td id=\"T_01873_row3_col12\" class=\"data row3 col12\" >Done</td>\n      <td id=\"T_01873_row3_col13\" class=\"data row3 col13\" >TBD</td>\n    </tr>\n    <tr>\n      <th id=\"T_01873_level0_row4\" class=\"row_heading level0 row4\" >4</th>\n      <td id=\"T_01873_row4_col0\" class=\"data row4 col0\" >2018-06-15 00:00:00</td>\n      <td id=\"T_01873_row4_col1\" class=\"data row4 col1\" >2018-06-15 00:00:00</td>\n      <td id=\"T_01873_row4_col2\" class=\"data row4 col2\" >2018-07-04 00:00:00</td>\n      <td id=\"T_01873_row4_col3\" class=\"data row4 col3\" >2018-07-04 00:00:00</td>\n      <td id=\"T_01873_row4_col4\" class=\"data row4 col4\" >20.0000000000</td>\n      <td id=\"T_01873_row4_col5\" class=\"data row4 col5\" >20</td>\n      <td id=\"T_01873_row4_col6\" class=\"data row4 col6\" >Task Label 5</td>\n      <td id=\"T_01873_row4_col7\" class=\"data row4 col7\" >Task Label 5</td>\n      <td id=\"T_01873_row4_col8\" class=\"data row4 col8\" >-30.0000000000</td>\n      <td id=\"T_01873_row4_col9\" class=\"data row4 col9\" >-30.0000000000</td>\n      <td id=\"T_01873_row4_col10\" class=\"data row4 col10\" >-30.0000000000</td>\n      <td id=\"T_01873_row4_col11\" class=\"data row4 col11\" >-30.0000000000</td>\n      <td id=\"T_01873_row4_col12\" class=\"data row4 col12\" >TBC</td>\n      <td id=\"T_01873_row4_col13\" class=\"data row4 col13\" >TBC</td>\n    </tr>\n    <tr>\n      <th id=\"T_01873_level0_row5\" class=\"row_heading level0 row5\" >5</th>\n      <td id=\"T_01873_row5_col0\" class=\"data row5 col0\" >2018-07-05 00:00:00</td>\n      <td id=\"T_01873_row5_col1\" class=\"data row5 col1\" >2018-07-05 00:00:00</td>\n      <td id=\"T_01873_row5_col2\" class=\"data row5 col2\" >2018-08-03 00:00:00</td>\n      <td id=\"T_01873_row5_col3\" class=\"data row5 col3\" >2018-08-03 00:00:00</td>\n      <td id=\"T_01873_row5_col4\" class=\"data row5 col4\" >30.0000000000</td>\n      <td id=\"T_01873_row5_col5\" class=\"data row5 col5\" >30</td>\n      <td id=\"T_01873_row5_col6\" class=\"data row5 col6\" >Task Label 6</td>\n      <td id=\"T_01873_row5_col7\" class=\"data row5 col7\" >Task Label 6</td>\n      <td id=\"T_01873_row5_col8\" class=\"data row5 col8\" >-45.0000000000</td>\n      <td id=\"T_01873_row5_col9\" class=\"data row5 col9\" >-45.0000000000</td>\n      <td id=\"T_01873_row5_col10\" class=\"data row5 col10\" >-15.0000000000</td>\n      <td id=\"T_01873_row5_col11\" class=\"data row5 col11\" >-15.0000000000</td>\n      <td id=\"T_01873_row5_col12\" class=\"data row5 col12\" >TBC</td>\n      <td id=\"T_01873_row5_col13\" class=\"data row5 col13\" >TBC</td>\n    </tr>\n    <tr>\n      <th id=\"T_01873_level0_row6\" class=\"row_heading level0 row6\" >6</th>\n      <td id=\"T_01873_row6_col0\" class=\"data row6 col0\" >2018-08-10 00:00:00</td>\n      <td id=\"T_01873_row6_col1\" class=\"data row6 col1\" >2018-08-10 00:00:00</td>\n      <td id=\"T_01873_row6_col2\" class=\"data row6 col2\" >2018-09-10 00:00:00</td>\n      <td id=\"T_01873_row6_col3\" class=\"data row6 col3\" >2018-09-10 00:00:00</td>\n      <td id=\"T_01873_row6_col4\" class=\"data row6 col4\" >32.0000000000</td>\n      <td id=\"T_01873_row6_col5\" class=\"data row6 col5\" >32</td>\n      <td id=\"T_01873_row6_col6\" class=\"data row6 col6\" >Task Label 7</td>\n      <td id=\"T_01873_row6_col7\" class=\"data row6 col7\" >Task Label 7</td>\n      <td id=\"T_01873_row6_col8\" class=\"data row6 col8\" >-20.0000000000</td>\n      <td id=\"T_01873_row6_col9\" class=\"data row6 col9\" >-20.0000000000</td>\n      <td id=\"T_01873_row6_col10\" class=\"data row6 col10\" >-20.0000000000</td>\n      <td id=\"T_01873_row6_col11\" class=\"data row6 col11\" >-20.0000000000</td>\n      <td id=\"T_01873_row6_col12\" class=\"data row6 col12\" >Done</td>\n      <td id=\"T_01873_row6_col13\" class=\"data row6 col13\" >Done</td>\n    </tr>\n    <tr>\n      <th id=\"T_01873_level0_row7\" class=\"row_heading level0 row7\" >7</th>\n      <td id=\"T_01873_row7_col0\" class=\"data row7 col0\" >2018-09-11 00:00:00</td>\n      <td id=\"T_01873_row7_col1\" class=\"data row7 col1\" >2018-09-11 00:00:00</td>\n      <td id=\"T_01873_row7_col2\" class=\"data row7 col2\" >2018-09-15 00:00:00</td>\n      <td id=\"T_01873_row7_col3\" class=\"data row7 col3\" >2018-09-15 00:00:00</td>\n      <td id=\"T_01873_row7_col4\" class=\"data row7 col4\" >5.0000000000</td>\n      <td id=\"T_01873_row7_col5\" class=\"data row7 col5\" >5</td>\n      <td id=\"T_01873_row7_col6\" class=\"data row7 col6\" >Task Label 8</td>\n      <td id=\"T_01873_row7_col7\" class=\"data row7 col7\" >Moved to q3</td>\n      <td id=\"T_01873_row7_col8\" class=\"data row7 col8\" >-60.0000000000</td>\n      <td id=\"T_01873_row7_col9\" class=\"data row7 col9\" >-60.0000000000</td>\n      <td id=\"T_01873_row7_col10\" class=\"data row7 col10\" >-40.0000000000</td>\n      <td id=\"T_01873_row7_col11\" class=\"data row7 col11\" >-40.0000000000</td>\n      <td id=\"T_01873_row7_col12\" class=\"data row7 col12\" >TBC</td>\n      <td id=\"T_01873_row7_col13\" class=\"data row7 col13\" >Done</td>\n    </tr>\n    <tr>\n      <th id=\"T_01873_level0_row8\" class=\"row_heading level0 row8\" >8</th>\n      <td id=\"T_01873_row8_col0\" class=\"data row8 col0\" >2018-09-16 00:00:00</td>\n      <td id=\"T_01873_row8_col1\" class=\"data row8 col1\" >2018-09-16 00:00:00</td>\n      <td id=\"T_01873_row8_col2\" class=\"data row8 col2\" >2018-10-06 00:00:00</td>\n      <td id=\"T_01873_row8_col3\" class=\"data row8 col3\" >2018-10-06 00:00:00</td>\n      <td id=\"T_01873_row8_col4\" class=\"data row8 col4\" >21.0000000000</td>\n      <td id=\"T_01873_row8_col5\" class=\"data row8 col5\" >21</td>\n      <td id=\"T_01873_row8_col6\" class=\"data row8 col6\" >Task Label 9</td>\n      <td id=\"T_01873_row8_col7\" class=\"data row8 col7\" >Task Label 9</td>\n      <td id=\"T_01873_row8_col8\" class=\"data row8 col8\" >-75.0000000000</td>\n      <td id=\"T_01873_row8_col9\" class=\"data row8 col9\" >-75.0000000000</td>\n      <td id=\"T_01873_row8_col10\" class=\"data row8 col10\" >-15.0000000000</td>\n      <td id=\"T_01873_row8_col11\" class=\"data row8 col11\" >-15.0000000000</td>\n      <td id=\"T_01873_row8_col12\" class=\"data row8 col12\" >TBC</td>\n      <td id=\"T_01873_row8_col13\" class=\"data row8 col13\" >Done</td>\n    </tr>\n    <tr>\n      <th id=\"T_01873_level0_row9\" class=\"row_heading level0 row9\" >9</th>\n      <td id=\"T_01873_row9_col0\" class=\"data row9 col0\" >X</td>\n      <td id=\"T_01873_row9_col1\" class=\"data row9 col1\" >X</td>\n      <td id=\"T_01873_row9_col2\" class=\"data row9 col2\" >X</td>\n      <td id=\"T_01873_row9_col3\" class=\"data row9 col3\" >1</td>\n      <td id=\"T_01873_row9_col4\" class=\"data row9 col4\" >X</td>\n      <td id=\"T_01873_row9_col5\" class=\"data row9 col5\" >2</td>\n      <td id=\"T_01873_row9_col6\" class=\"data row9 col6\" >X</td>\n      <td id=\"T_01873_row9_col7\" class=\"data row9 col7\" >X</td>\n      <td id=\"T_01873_row9_col8\" class=\"data row9 col8\" >X</td>\n      <td id=\"T_01873_row9_col9\" class=\"data row9 col9\" >2.0000000000</td>\n      <td id=\"T_01873_row9_col10\" class=\"data row9 col10\" >X</td>\n      <td id=\"T_01873_row9_col11\" class=\"data row9 col11\" >4.0000000000</td>\n      <td id=\"T_01873_row9_col12\" class=\"data row9 col12\" >X</td>\n      <td id=\"T_01873_row9_col13\" class=\"data row9 col13\" >6</td>\n    </tr>\n  </tbody>\n</table>\n"},"metadata":{}}]}]}